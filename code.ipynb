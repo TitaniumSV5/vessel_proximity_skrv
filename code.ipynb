{
 "cells": [
  {
   "cell_type": "code",
   "execution_count": 12,
   "metadata": {},
   "outputs": [],
   "source": [
    "import pandas as pd\n",
    "\n",
    "data = pd.read_csv('/home/titanium/Desktop/skrv/sample_data.csv')"
   ]
  },
  {
   "cell_type": "code",
   "execution_count": 2,
   "metadata": {},
   "outputs": [],
   "source": [
    "import numpy as np\n",
    "from math import radians, sin, cos, sqrt, atan2\n",
    "\n",
    "# Haversine function vectorized\n",
    "def haversine_vectorized(lat1, lon1, lat2, lon2):\n",
    "    R = 6371.0 #Radius of Earth\n",
    "    \n",
    "    lat1, lon1, lat2, lon2 = map(np.radians, [lat1, lon1, lat2, lon2])\n",
    "    \n",
    "    dlat = lat2 - lat1\n",
    "    dlon = lon2 - lon1\n",
    "    \n",
    "    a = np.sin(dlat / 2.0) ** 2 + np.cos(lat1) * np.cos(lat2) * np.sin(dlon / 2.0) ** 2\n",
    "    c = 2 * np.arctan2(np.sqrt(a), np.sqrt(1 - a))\n",
    "    \n",
    "    return R * c"
   ]
  },
  {
   "cell_type": "code",
   "execution_count": 13,
   "metadata": {},
   "outputs": [
    {
     "name": "stdout",
     "output_type": "stream",
     "text": [
      "          mmsi  vessel_proximity               timestamp\n",
      "0    565761000         352002300  2023-03-12 14:30:00+00\n",
      "1    352002300         565761000  2023-03-12 14:30:00+00\n",
      "2    565761000         352002300  2023-03-12 15:30:00+00\n",
      "3    352002300         565761000  2023-03-12 15:30:00+00\n",
      "4    352002300         565761000  2023-03-12 16:30:00+00\n",
      "..         ...               ...                     ...\n",
      "353  563014650         563014650  2023-03-24 04:58:36+00\n",
      "354  563078430         563078430  2023-03-24 04:58:52+00\n",
      "355  563078430         563078430  2023-03-24 04:58:52+00\n",
      "356  518998309         518998309  2023-03-24 04:59:46+00\n",
      "357  518998309         518998309  2023-03-24 04:59:46+00\n",
      "\n",
      "[358 rows x 3 columns]\n"
     ]
    }
   ],
   "source": [
    "df = pd.read_csv('sample_data.csv')\n",
    "\n",
    "# Sorting timestamps for efficiency\n",
    "df = df.sort_values('timestamp').reset_index(drop=True)\n",
    "\n",
    "# Vessel proximity cutoff threshold\n",
    "proximity_threshold = 0.1  # in kilometers\n",
    "\n",
    "proximity_events = []\n",
    "\n",
    "for timestamp in df['timestamp'].unique():\n",
    "    # Filtering vessels for current timestamp\n",
    "    current_data = df[df['timestamp'] == timestamp].reset_index(drop=True)\n",
    "\n",
    "    # Vectorized pairwise distance calculation\n",
    "    latitudes = current_data['lat'].values\n",
    "    longitudes = current_data['lon'].values\n",
    "    mmsis = current_data['mmsi'].values\n",
    "    \n",
    "    # Expanding the latitude and longitude arrays for vectorized operations\n",
    "    lat_matrix1 = np.repeat(latitudes, len(latitudes))\n",
    "    lon_matrix1 = np.repeat(longitudes, len(longitudes))\n",
    "    lat_matrix2 = np.tile(latitudes, len(latitudes))\n",
    "    lon_matrix2 = np.tile(longitudes, len(longitudes))\n",
    "    \n",
    "    distances = haversine_vectorized(lat_matrix1, lon_matrix1, lat_matrix2, lon_matrix2)\n",
    "    \n",
    "    # Distance square matrix\n",
    "    distance_matrix = distances.reshape(len(latitudes), len(latitudes))\n",
    "    \n",
    "    # Setting diagonal to a large value to avoid self comparison\n",
    "    np.fill_diagonal(distance_matrix, np.inf)\n",
    "    \n",
    "    # Proximity events\n",
    "    close_vessels = np.where(distance_matrix <= proximity_threshold)\n",
    "    \n",
    "    for i, j in zip(close_vessels[0], close_vessels[1]):\n",
    "        proximity_events.append({\n",
    "            'mmsi': mmsis[i],\n",
    "            'vessel_proximity': mmsis[j],\n",
    "            'timestamp': timestamp\n",
    "        })\n",
    "\n",
    "proximity_df = pd.DataFrame(proximity_events)\n",
    "\n",
    "print(proximity_df)"
   ]
  },
  {
   "cell_type": "code",
   "execution_count": 14,
   "metadata": {},
   "outputs": [],
   "source": [
    "# Saving output to a csv file\n",
    "proximity_df.to_csv('/home/titanium/Desktop/skrv/vessel_proximity_events.csv', index=False)"
   ]
  },
  {
   "cell_type": "code",
   "execution_count": 15,
   "metadata": {},
   "outputs": [],
   "source": [
    "sample_data = pd.read_csv('/home/titanium/Desktop/skrv/sample_data.csv')"
   ]
  },
  {
   "cell_type": "code",
   "execution_count": 16,
   "metadata": {},
   "outputs": [
    {
     "name": "stdout",
     "output_type": "stream",
     "text": [
      "        mmsi  vessel_proximity               timestamp       lat        lon\n",
      "0  565761000         352002300  2023-03-12 14:30:00+00  1.268780  103.75827\n",
      "1  565761000         352002300  2023-03-12 14:30:00+00  1.164080  103.76326\n",
      "2  565761000         352002300  2023-03-12 14:30:00+00  1.228610  103.71950\n",
      "3  565761000         352002300  2023-03-12 14:30:00+00  1.233600  103.71625\n",
      "4  565761000         352002300  2023-03-12 14:30:00+00  1.191464  103.73025\n"
     ]
    }
   ],
   "source": [
    "# Merging the proximity data with the original sample data to include latitude and longitude\n",
    "proximity_df = pd.merge(proximity_df, sample_data[['mmsi', 'lat', 'lon']], on='mmsi', how='left')\n",
    "\n",
    "print(proximity_df.head())\n"
   ]
  },
  {
   "cell_type": "code",
   "execution_count": 17,
   "metadata": {},
   "outputs": [
    {
     "name": "stdout",
     "output_type": "stream",
     "text": [
      "        mmsi  vessel_proximity               timestamp       lat        lon  \\\n",
      "0  565761000         352002300  2023-03-12 14:30:00+00  1.268780  103.75827   \n",
      "1  565761000         352002300  2023-03-12 14:30:00+00  1.164080  103.76326   \n",
      "2  565761000         352002300  2023-03-12 14:30:00+00  1.228610  103.71950   \n",
      "3  565761000         352002300  2023-03-12 14:30:00+00  1.233600  103.71625   \n",
      "4  565761000         352002300  2023-03-12 14:30:00+00  1.191464  103.73025   \n",
      "\n",
      "                    geometry  \n",
      "0  POINT (103.75827 1.26878)  \n",
      "1  POINT (103.76326 1.16408)  \n",
      "2   POINT (103.7195 1.22861)  \n",
      "3   POINT (103.71625 1.2336)  \n",
      "4  POINT (103.73025 1.19146)  \n"
     ]
    }
   ],
   "source": [
    "import geopandas as gpd\n",
    "\n",
    "# Creating a GeoDataFrame\n",
    "gdf = gpd.GeoDataFrame(\n",
    "    proximity_df, \n",
    "    geometry=gpd.points_from_xy(proximity_df.lon, proximity_df.lat),\n",
    "    crs=\"EPSG:4326\"  # WGS84 coordinate system\n",
    ")\n",
    "\n",
    "print(gdf.head())\n"
   ]
  },
  {
   "cell_type": "code",
   "execution_count": 18,
   "metadata": {},
   "outputs": [
    {
     "data": {
      "image/png": "[encoded data removed]",
      "text/plain": [
       "<Figure size 1000x1000 with 1 Axes>"
      ]
     },
     "metadata": {},
     "output_type": "display_data"
    }
   ],
   "source": [
    "import matplotlib.pyplot as plt\n",
    "\n",
    "# Plotting the proximity events on map\n",
    "fig, ax = plt.subplots(figsize=(10, 10))\n",
    "gdf.plot(ax=ax, marker='o', color='blue', markersize=5)\n",
    "\n",
    "ax.set_title('Vessel Proximity Events')\n",
    "plt.show()\n"
   ]
  },
  {
   "cell_type": "code",
   "execution_count": 19,
   "metadata": {},
   "outputs": [],
   "source": [
    "import plotly.express as px\n",
    "import geopandas as gpd\n",
    "\n",
    "gdf['lat'] = gdf.geometry.y\n",
    "gdf['lon'] = gdf.geometry.x\n",
    "\n",
    "# Plotting using Plotly\n",
    "fig = px.scatter_mapbox(\n",
    "    gdf, \n",
    "    lat=\"lat\", \n",
    "    lon=\"lon\", \n",
    "    color=\"mmsi\", \n",
    "    size_max=15, \n",
    "    zoom=10,\n",
    "    title=\"Vessel Proximity Events\",\n",
    "    mapbox_style=\"carto-positron\"\n",
    ")\n",
    "\n",
    "# Saving the plot to a HTML file for easy viewing\n",
    "fig.write_html(\"vessel_proximity_events.html\")\n",
    "\n"
   ]
  }
 ],
 "metadata": {
  "kernelspec": {
   "display_name": "Python 3",
   "language": "python",
   "name": "python3"
  },
  "language_info": {
   "codemirror_mode": {
    "name": "ipython",
    "version": 3
   },
   "file_extension": ".py",
   "mimetype": "text/x-python",
   "name": "python",
   "nbconvert_exporter": "python",
   "pygments_lexer": "ipython3",
   "version": "3.11.9"
  }
 },
 "nbformat": 4,
 "nbformat_minor": 2
}
